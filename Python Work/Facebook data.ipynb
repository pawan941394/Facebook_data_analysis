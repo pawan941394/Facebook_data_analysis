{
 "cells": [
  {
   "cell_type": "code",
   "execution_count": 1,
   "id": "869fadc5",
   "metadata": {},
   "outputs": [],
   "source": [
    "import pandas as pd\n",
    "import matplotlib.pyplot as plt\n",
    "import seaborn as sns\n",
    "import numpy as np\n",
    "%matplotlib inline"
   ]
  },
  {
   "cell_type": "markdown",
   "id": "b2cd0b8f",
   "metadata": {},
   "source": [
    "# Performing EDA (Exploratory Data Analysis)"
   ]
  },
  {
   "cell_type": "code",
   "execution_count": 2,
   "id": "305c2fec",
   "metadata": {},
   "outputs": [],
   "source": [
    "df =  pd.read_csv(\"C:/Users/user/Desktop/Master's in Data Science and AI/Projects/Python , Tableau, SQL, Power BI/Facebook data Analysis/DataBase/facebook.csv\")"
   ]
  },
  {
   "cell_type": "code",
   "execution_count": 3,
   "id": "1432c96d",
   "metadata": {},
   "outputs": [
    {
     "data": {
      "text/html": [
       "<div>\n",
       "<style scoped>\n",
       "    .dataframe tbody tr th:only-of-type {\n",
       "        vertical-align: middle;\n",
       "    }\n",
       "\n",
       "    .dataframe tbody tr th {\n",
       "        vertical-align: top;\n",
       "    }\n",
       "\n",
       "    .dataframe thead th {\n",
       "        text-align: right;\n",
       "    }\n",
       "</style>\n",
       "<table border=\"1\" class=\"dataframe\">\n",
       "  <thead>\n",
       "    <tr style=\"text-align: right;\">\n",
       "      <th></th>\n",
       "      <th>userid</th>\n",
       "      <th>age</th>\n",
       "      <th>dob_day</th>\n",
       "      <th>dob_year</th>\n",
       "      <th>dob_month</th>\n",
       "      <th>gender</th>\n",
       "      <th>tenure</th>\n",
       "      <th>friend_count</th>\n",
       "      <th>friendships_initiated</th>\n",
       "      <th>likes</th>\n",
       "      <th>likes_received</th>\n",
       "      <th>mobile_likes</th>\n",
       "      <th>mobile_likes_received</th>\n",
       "      <th>www_likes</th>\n",
       "      <th>www_likes_received</th>\n",
       "    </tr>\n",
       "  </thead>\n",
       "  <tbody>\n",
       "    <tr>\n",
       "      <th>0</th>\n",
       "      <td>2094382</td>\n",
       "      <td>14</td>\n",
       "      <td>19</td>\n",
       "      <td>1999</td>\n",
       "      <td>11</td>\n",
       "      <td>male</td>\n",
       "      <td>266.0</td>\n",
       "      <td>0</td>\n",
       "      <td>0</td>\n",
       "      <td>0</td>\n",
       "      <td>0</td>\n",
       "      <td>0</td>\n",
       "      <td>0</td>\n",
       "      <td>0</td>\n",
       "      <td>0</td>\n",
       "    </tr>\n",
       "    <tr>\n",
       "      <th>1</th>\n",
       "      <td>1192601</td>\n",
       "      <td>14</td>\n",
       "      <td>2</td>\n",
       "      <td>1999</td>\n",
       "      <td>11</td>\n",
       "      <td>female</td>\n",
       "      <td>6.0</td>\n",
       "      <td>0</td>\n",
       "      <td>0</td>\n",
       "      <td>0</td>\n",
       "      <td>0</td>\n",
       "      <td>0</td>\n",
       "      <td>0</td>\n",
       "      <td>0</td>\n",
       "      <td>0</td>\n",
       "    </tr>\n",
       "    <tr>\n",
       "      <th>2</th>\n",
       "      <td>2083884</td>\n",
       "      <td>14</td>\n",
       "      <td>16</td>\n",
       "      <td>1999</td>\n",
       "      <td>11</td>\n",
       "      <td>male</td>\n",
       "      <td>13.0</td>\n",
       "      <td>0</td>\n",
       "      <td>0</td>\n",
       "      <td>0</td>\n",
       "      <td>0</td>\n",
       "      <td>0</td>\n",
       "      <td>0</td>\n",
       "      <td>0</td>\n",
       "      <td>0</td>\n",
       "    </tr>\n",
       "  </tbody>\n",
       "</table>\n",
       "</div>"
      ],
      "text/plain": [
       "    userid  age  dob_day  dob_year  dob_month  gender  tenure  friend_count  \\\n",
       "0  2094382   14       19      1999         11    male   266.0             0   \n",
       "1  1192601   14        2      1999         11  female     6.0             0   \n",
       "2  2083884   14       16      1999         11    male    13.0             0   \n",
       "\n",
       "   friendships_initiated  likes  likes_received  mobile_likes  \\\n",
       "0                      0      0               0             0   \n",
       "1                      0      0               0             0   \n",
       "2                      0      0               0             0   \n",
       "\n",
       "   mobile_likes_received  www_likes  www_likes_received  \n",
       "0                      0          0                   0  \n",
       "1                      0          0                   0  \n",
       "2                      0          0                   0  "
      ]
     },
     "execution_count": 3,
     "metadata": {},
     "output_type": "execute_result"
    }
   ],
   "source": [
    "df.head(3)"
   ]
  },
  {
   "cell_type": "code",
   "execution_count": 4,
   "id": "8669c0aa",
   "metadata": {},
   "outputs": [
    {
     "data": {
      "text/plain": [
       "99003"
      ]
     },
     "execution_count": 4,
     "metadata": {},
     "output_type": "execute_result"
    }
   ],
   "source": [
    "len(df)"
   ]
  },
  {
   "cell_type": "markdown",
   "id": "edbe93a9",
   "metadata": {},
   "source": [
    "99003 is the total records in databse"
   ]
  },
  {
   "cell_type": "markdown",
   "id": "fc59bd10",
   "metadata": {},
   "source": [
    "checking null values "
   ]
  },
  {
   "cell_type": "code",
   "execution_count": 5,
   "id": "0d5a83d9",
   "metadata": {},
   "outputs": [
    {
     "data": {
      "text/plain": [
       "userid                     0\n",
       "age                        0\n",
       "dob_day                    0\n",
       "dob_year                   0\n",
       "dob_month                  0\n",
       "gender                   175\n",
       "tenure                     2\n",
       "friend_count               0\n",
       "friendships_initiated      0\n",
       "likes                      0\n",
       "likes_received             0\n",
       "mobile_likes               0\n",
       "mobile_likes_received      0\n",
       "www_likes                  0\n",
       "www_likes_received         0\n",
       "dtype: int64"
      ]
     },
     "execution_count": 5,
     "metadata": {},
     "output_type": "execute_result"
    }
   ],
   "source": [
    "df.isnull().sum()"
   ]
  },
  {
   "cell_type": "markdown",
   "id": "20c368ee",
   "metadata": {},
   "source": [
    "Droping null values"
   ]
  },
  {
   "cell_type": "code",
   "execution_count": 6,
   "id": "9ffd329e",
   "metadata": {},
   "outputs": [],
   "source": [
    "df.dropna(inplace  =  True)"
   ]
  },
  {
   "cell_type": "code",
   "execution_count": 7,
   "id": "de8c17dd",
   "metadata": {},
   "outputs": [
    {
     "data": {
      "text/plain": [
       "userid                   0\n",
       "age                      0\n",
       "dob_day                  0\n",
       "dob_year                 0\n",
       "dob_month                0\n",
       "gender                   0\n",
       "tenure                   0\n",
       "friend_count             0\n",
       "friendships_initiated    0\n",
       "likes                    0\n",
       "likes_received           0\n",
       "mobile_likes             0\n",
       "mobile_likes_received    0\n",
       "www_likes                0\n",
       "www_likes_received       0\n",
       "dtype: int64"
      ]
     },
     "execution_count": 7,
     "metadata": {},
     "output_type": "execute_result"
    }
   ],
   "source": [
    "df.isnull().sum()"
   ]
  },
  {
   "cell_type": "markdown",
   "id": "1048cf64",
   "metadata": {},
   "source": [
    "Now no null values available in database"
   ]
  },
  {
   "cell_type": "code",
   "execution_count": 8,
   "id": "2a31ea9e",
   "metadata": {},
   "outputs": [
    {
     "name": "stdout",
     "output_type": "stream",
     "text": [
      "<class 'pandas.core.frame.DataFrame'>\n",
      "Int64Index: 98826 entries, 0 to 99002\n",
      "Data columns (total 15 columns):\n",
      " #   Column                 Non-Null Count  Dtype  \n",
      "---  ------                 --------------  -----  \n",
      " 0   userid                 98826 non-null  int64  \n",
      " 1   age                    98826 non-null  int64  \n",
      " 2   dob_day                98826 non-null  int64  \n",
      " 3   dob_year               98826 non-null  int64  \n",
      " 4   dob_month              98826 non-null  int64  \n",
      " 5   gender                 98826 non-null  object \n",
      " 6   tenure                 98826 non-null  float64\n",
      " 7   friend_count           98826 non-null  int64  \n",
      " 8   friendships_initiated  98826 non-null  int64  \n",
      " 9   likes                  98826 non-null  int64  \n",
      " 10  likes_received         98826 non-null  int64  \n",
      " 11  mobile_likes           98826 non-null  int64  \n",
      " 12  mobile_likes_received  98826 non-null  int64  \n",
      " 13  www_likes              98826 non-null  int64  \n",
      " 14  www_likes_received     98826 non-null  int64  \n",
      "dtypes: float64(1), int64(13), object(1)\n",
      "memory usage: 12.1+ MB\n"
     ]
    }
   ],
   "source": [
    "df.info()"
   ]
  },
  {
   "cell_type": "markdown",
   "id": "5169d9c3",
   "metadata": {},
   "source": [
    "Changing the data type of dob_month"
   ]
  },
  {
   "cell_type": "code",
   "execution_count": 9,
   "id": "cc928890",
   "metadata": {},
   "outputs": [],
   "source": [
    "df['dob_month'] =  df['dob_month'].astype(str)"
   ]
  },
  {
   "cell_type": "code",
   "execution_count": 10,
   "id": "8f153e9b",
   "metadata": {},
   "outputs": [
    {
     "name": "stdout",
     "output_type": "stream",
     "text": [
      "<class 'pandas.core.frame.DataFrame'>\n",
      "Int64Index: 98826 entries, 0 to 99002\n",
      "Data columns (total 15 columns):\n",
      " #   Column                 Non-Null Count  Dtype  \n",
      "---  ------                 --------------  -----  \n",
      " 0   userid                 98826 non-null  int64  \n",
      " 1   age                    98826 non-null  int64  \n",
      " 2   dob_day                98826 non-null  int64  \n",
      " 3   dob_year               98826 non-null  int64  \n",
      " 4   dob_month              98826 non-null  object \n",
      " 5   gender                 98826 non-null  object \n",
      " 6   tenure                 98826 non-null  float64\n",
      " 7   friend_count           98826 non-null  int64  \n",
      " 8   friendships_initiated  98826 non-null  int64  \n",
      " 9   likes                  98826 non-null  int64  \n",
      " 10  likes_received         98826 non-null  int64  \n",
      " 11  mobile_likes           98826 non-null  int64  \n",
      " 12  mobile_likes_received  98826 non-null  int64  \n",
      " 13  www_likes              98826 non-null  int64  \n",
      " 14  www_likes_received     98826 non-null  int64  \n",
      "dtypes: float64(1), int64(12), object(2)\n",
      "memory usage: 12.1+ MB\n"
     ]
    }
   ],
   "source": [
    "df.info()"
   ]
  },
  {
   "cell_type": "markdown",
   "id": "0ed95bf4",
   "metadata": {},
   "source": [
    "now giving month names to dob_month"
   ]
  },
  {
   "cell_type": "code",
   "execution_count": 11,
   "id": "9c20d3b3",
   "metadata": {},
   "outputs": [],
   "source": [
    "month_name={'1':'January','2':'February','3':'March','4':'April','5':'May','6':'June','7':'July','8':'August','9':'September','10':'October','11':'November','12':'December'}\n",
    "df['dob_month']=df['dob_month'].map(month_name)"
   ]
  },
  {
   "cell_type": "code",
   "execution_count": 12,
   "id": "bf433ae3",
   "metadata": {},
   "outputs": [
    {
     "data": {
      "text/html": [
       "<div>\n",
       "<style scoped>\n",
       "    .dataframe tbody tr th:only-of-type {\n",
       "        vertical-align: middle;\n",
       "    }\n",
       "\n",
       "    .dataframe tbody tr th {\n",
       "        vertical-align: top;\n",
       "    }\n",
       "\n",
       "    .dataframe thead th {\n",
       "        text-align: right;\n",
       "    }\n",
       "</style>\n",
       "<table border=\"1\" class=\"dataframe\">\n",
       "  <thead>\n",
       "    <tr style=\"text-align: right;\">\n",
       "      <th></th>\n",
       "      <th>userid</th>\n",
       "      <th>age</th>\n",
       "      <th>dob_day</th>\n",
       "      <th>dob_year</th>\n",
       "      <th>dob_month</th>\n",
       "      <th>gender</th>\n",
       "      <th>tenure</th>\n",
       "      <th>friend_count</th>\n",
       "      <th>friendships_initiated</th>\n",
       "      <th>likes</th>\n",
       "      <th>likes_received</th>\n",
       "      <th>mobile_likes</th>\n",
       "      <th>mobile_likes_received</th>\n",
       "      <th>www_likes</th>\n",
       "      <th>www_likes_received</th>\n",
       "    </tr>\n",
       "  </thead>\n",
       "  <tbody>\n",
       "    <tr>\n",
       "      <th>0</th>\n",
       "      <td>2094382</td>\n",
       "      <td>14</td>\n",
       "      <td>19</td>\n",
       "      <td>1999</td>\n",
       "      <td>November</td>\n",
       "      <td>male</td>\n",
       "      <td>266.0</td>\n",
       "      <td>0</td>\n",
       "      <td>0</td>\n",
       "      <td>0</td>\n",
       "      <td>0</td>\n",
       "      <td>0</td>\n",
       "      <td>0</td>\n",
       "      <td>0</td>\n",
       "      <td>0</td>\n",
       "    </tr>\n",
       "    <tr>\n",
       "      <th>1</th>\n",
       "      <td>1192601</td>\n",
       "      <td>14</td>\n",
       "      <td>2</td>\n",
       "      <td>1999</td>\n",
       "      <td>November</td>\n",
       "      <td>female</td>\n",
       "      <td>6.0</td>\n",
       "      <td>0</td>\n",
       "      <td>0</td>\n",
       "      <td>0</td>\n",
       "      <td>0</td>\n",
       "      <td>0</td>\n",
       "      <td>0</td>\n",
       "      <td>0</td>\n",
       "      <td>0</td>\n",
       "    </tr>\n",
       "    <tr>\n",
       "      <th>2</th>\n",
       "      <td>2083884</td>\n",
       "      <td>14</td>\n",
       "      <td>16</td>\n",
       "      <td>1999</td>\n",
       "      <td>November</td>\n",
       "      <td>male</td>\n",
       "      <td>13.0</td>\n",
       "      <td>0</td>\n",
       "      <td>0</td>\n",
       "      <td>0</td>\n",
       "      <td>0</td>\n",
       "      <td>0</td>\n",
       "      <td>0</td>\n",
       "      <td>0</td>\n",
       "      <td>0</td>\n",
       "    </tr>\n",
       "    <tr>\n",
       "      <th>3</th>\n",
       "      <td>1203168</td>\n",
       "      <td>14</td>\n",
       "      <td>25</td>\n",
       "      <td>1999</td>\n",
       "      <td>December</td>\n",
       "      <td>female</td>\n",
       "      <td>93.0</td>\n",
       "      <td>0</td>\n",
       "      <td>0</td>\n",
       "      <td>0</td>\n",
       "      <td>0</td>\n",
       "      <td>0</td>\n",
       "      <td>0</td>\n",
       "      <td>0</td>\n",
       "      <td>0</td>\n",
       "    </tr>\n",
       "    <tr>\n",
       "      <th>4</th>\n",
       "      <td>1733186</td>\n",
       "      <td>14</td>\n",
       "      <td>4</td>\n",
       "      <td>1999</td>\n",
       "      <td>December</td>\n",
       "      <td>male</td>\n",
       "      <td>82.0</td>\n",
       "      <td>0</td>\n",
       "      <td>0</td>\n",
       "      <td>0</td>\n",
       "      <td>0</td>\n",
       "      <td>0</td>\n",
       "      <td>0</td>\n",
       "      <td>0</td>\n",
       "      <td>0</td>\n",
       "    </tr>\n",
       "  </tbody>\n",
       "</table>\n",
       "</div>"
      ],
      "text/plain": [
       "    userid  age  dob_day  dob_year dob_month  gender  tenure  friend_count  \\\n",
       "0  2094382   14       19      1999  November    male   266.0             0   \n",
       "1  1192601   14        2      1999  November  female     6.0             0   \n",
       "2  2083884   14       16      1999  November    male    13.0             0   \n",
       "3  1203168   14       25      1999  December  female    93.0             0   \n",
       "4  1733186   14        4      1999  December    male    82.0             0   \n",
       "\n",
       "   friendships_initiated  likes  likes_received  mobile_likes  \\\n",
       "0                      0      0               0             0   \n",
       "1                      0      0               0             0   \n",
       "2                      0      0               0             0   \n",
       "3                      0      0               0             0   \n",
       "4                      0      0               0             0   \n",
       "\n",
       "   mobile_likes_received  www_likes  www_likes_received  \n",
       "0                      0          0                   0  \n",
       "1                      0          0                   0  \n",
       "2                      0          0                   0  \n",
       "3                      0          0                   0  \n",
       "4                      0          0                   0  "
      ]
     },
     "execution_count": 12,
     "metadata": {},
     "output_type": "execute_result"
    }
   ],
   "source": [
    "df.head(5)"
   ]
  },
  {
   "cell_type": "markdown",
   "id": "f62902c3",
   "metadata": {},
   "source": [
    "Now Changing Tenure Type"
   ]
  },
  {
   "cell_type": "code",
   "execution_count": 13,
   "id": "636a7974",
   "metadata": {},
   "outputs": [],
   "source": [
    "df['tenure']=df['tenure'].astype(int)"
   ]
  },
  {
   "cell_type": "code",
   "execution_count": 14,
   "id": "c5fbdb7c",
   "metadata": {},
   "outputs": [
    {
     "data": {
      "text/html": [
       "<div>\n",
       "<style scoped>\n",
       "    .dataframe tbody tr th:only-of-type {\n",
       "        vertical-align: middle;\n",
       "    }\n",
       "\n",
       "    .dataframe tbody tr th {\n",
       "        vertical-align: top;\n",
       "    }\n",
       "\n",
       "    .dataframe thead th {\n",
       "        text-align: right;\n",
       "    }\n",
       "</style>\n",
       "<table border=\"1\" class=\"dataframe\">\n",
       "  <thead>\n",
       "    <tr style=\"text-align: right;\">\n",
       "      <th></th>\n",
       "      <th>userid</th>\n",
       "      <th>age</th>\n",
       "      <th>dob_day</th>\n",
       "      <th>dob_year</th>\n",
       "      <th>dob_month</th>\n",
       "      <th>gender</th>\n",
       "      <th>tenure</th>\n",
       "      <th>friend_count</th>\n",
       "      <th>friendships_initiated</th>\n",
       "      <th>likes</th>\n",
       "      <th>likes_received</th>\n",
       "      <th>mobile_likes</th>\n",
       "      <th>mobile_likes_received</th>\n",
       "      <th>www_likes</th>\n",
       "      <th>www_likes_received</th>\n",
       "    </tr>\n",
       "  </thead>\n",
       "  <tbody>\n",
       "    <tr>\n",
       "      <th>0</th>\n",
       "      <td>2094382</td>\n",
       "      <td>14</td>\n",
       "      <td>19</td>\n",
       "      <td>1999</td>\n",
       "      <td>November</td>\n",
       "      <td>male</td>\n",
       "      <td>266</td>\n",
       "      <td>0</td>\n",
       "      <td>0</td>\n",
       "      <td>0</td>\n",
       "      <td>0</td>\n",
       "      <td>0</td>\n",
       "      <td>0</td>\n",
       "      <td>0</td>\n",
       "      <td>0</td>\n",
       "    </tr>\n",
       "    <tr>\n",
       "      <th>1</th>\n",
       "      <td>1192601</td>\n",
       "      <td>14</td>\n",
       "      <td>2</td>\n",
       "      <td>1999</td>\n",
       "      <td>November</td>\n",
       "      <td>female</td>\n",
       "      <td>6</td>\n",
       "      <td>0</td>\n",
       "      <td>0</td>\n",
       "      <td>0</td>\n",
       "      <td>0</td>\n",
       "      <td>0</td>\n",
       "      <td>0</td>\n",
       "      <td>0</td>\n",
       "      <td>0</td>\n",
       "    </tr>\n",
       "    <tr>\n",
       "      <th>2</th>\n",
       "      <td>2083884</td>\n",
       "      <td>14</td>\n",
       "      <td>16</td>\n",
       "      <td>1999</td>\n",
       "      <td>November</td>\n",
       "      <td>male</td>\n",
       "      <td>13</td>\n",
       "      <td>0</td>\n",
       "      <td>0</td>\n",
       "      <td>0</td>\n",
       "      <td>0</td>\n",
       "      <td>0</td>\n",
       "      <td>0</td>\n",
       "      <td>0</td>\n",
       "      <td>0</td>\n",
       "    </tr>\n",
       "    <tr>\n",
       "      <th>3</th>\n",
       "      <td>1203168</td>\n",
       "      <td>14</td>\n",
       "      <td>25</td>\n",
       "      <td>1999</td>\n",
       "      <td>December</td>\n",
       "      <td>female</td>\n",
       "      <td>93</td>\n",
       "      <td>0</td>\n",
       "      <td>0</td>\n",
       "      <td>0</td>\n",
       "      <td>0</td>\n",
       "      <td>0</td>\n",
       "      <td>0</td>\n",
       "      <td>0</td>\n",
       "      <td>0</td>\n",
       "    </tr>\n",
       "    <tr>\n",
       "      <th>4</th>\n",
       "      <td>1733186</td>\n",
       "      <td>14</td>\n",
       "      <td>4</td>\n",
       "      <td>1999</td>\n",
       "      <td>December</td>\n",
       "      <td>male</td>\n",
       "      <td>82</td>\n",
       "      <td>0</td>\n",
       "      <td>0</td>\n",
       "      <td>0</td>\n",
       "      <td>0</td>\n",
       "      <td>0</td>\n",
       "      <td>0</td>\n",
       "      <td>0</td>\n",
       "      <td>0</td>\n",
       "    </tr>\n",
       "  </tbody>\n",
       "</table>\n",
       "</div>"
      ],
      "text/plain": [
       "    userid  age  dob_day  dob_year dob_month  gender  tenure  friend_count  \\\n",
       "0  2094382   14       19      1999  November    male     266             0   \n",
       "1  1192601   14        2      1999  November  female       6             0   \n",
       "2  2083884   14       16      1999  November    male      13             0   \n",
       "3  1203168   14       25      1999  December  female      93             0   \n",
       "4  1733186   14        4      1999  December    male      82             0   \n",
       "\n",
       "   friendships_initiated  likes  likes_received  mobile_likes  \\\n",
       "0                      0      0               0             0   \n",
       "1                      0      0               0             0   \n",
       "2                      0      0               0             0   \n",
       "3                      0      0               0             0   \n",
       "4                      0      0               0             0   \n",
       "\n",
       "   mobile_likes_received  www_likes  www_likes_received  \n",
       "0                      0          0                   0  \n",
       "1                      0          0                   0  \n",
       "2                      0          0                   0  \n",
       "3                      0          0                   0  \n",
       "4                      0          0                   0  "
      ]
     },
     "execution_count": 14,
     "metadata": {},
     "output_type": "execute_result"
    }
   ],
   "source": [
    "df.head(5)"
   ]
  },
  {
   "cell_type": "markdown",
   "id": "4245232c",
   "metadata": {},
   "source": [
    "checking duplicat values"
   ]
  },
  {
   "cell_type": "code",
   "execution_count": 15,
   "id": "a528fdf8",
   "metadata": {},
   "outputs": [
    {
     "data": {
      "text/html": [
       "<div>\n",
       "<style scoped>\n",
       "    .dataframe tbody tr th:only-of-type {\n",
       "        vertical-align: middle;\n",
       "    }\n",
       "\n",
       "    .dataframe tbody tr th {\n",
       "        vertical-align: top;\n",
       "    }\n",
       "\n",
       "    .dataframe thead th {\n",
       "        text-align: right;\n",
       "    }\n",
       "</style>\n",
       "<table border=\"1\" class=\"dataframe\">\n",
       "  <thead>\n",
       "    <tr style=\"text-align: right;\">\n",
       "      <th></th>\n",
       "      <th>userid</th>\n",
       "      <th>age</th>\n",
       "      <th>dob_day</th>\n",
       "      <th>dob_year</th>\n",
       "      <th>dob_month</th>\n",
       "      <th>gender</th>\n",
       "      <th>tenure</th>\n",
       "      <th>friend_count</th>\n",
       "      <th>friendships_initiated</th>\n",
       "      <th>likes</th>\n",
       "      <th>likes_received</th>\n",
       "      <th>mobile_likes</th>\n",
       "      <th>mobile_likes_received</th>\n",
       "      <th>www_likes</th>\n",
       "      <th>www_likes_received</th>\n",
       "    </tr>\n",
       "  </thead>\n",
       "  <tbody>\n",
       "  </tbody>\n",
       "</table>\n",
       "</div>"
      ],
      "text/plain": [
       "Empty DataFrame\n",
       "Columns: [userid, age, dob_day, dob_year, dob_month, gender, tenure, friend_count, friendships_initiated, likes, likes_received, mobile_likes, mobile_likes_received, www_likes, www_likes_received]\n",
       "Index: []"
      ]
     },
     "execution_count": 15,
     "metadata": {},
     "output_type": "execute_result"
    }
   ],
   "source": [
    "df[df.duplicated()]"
   ]
  },
  {
   "cell_type": "markdown",
   "id": "51e750de",
   "metadata": {},
   "source": [
    "Here is no duplicate values available "
   ]
  },
  {
   "cell_type": "markdown",
   "id": "7d9ce560",
   "metadata": {},
   "source": [
    "Making Age Groups  "
   ]
  },
  {
   "cell_type": "markdown",
   "id": "b3a2a5e7",
   "metadata": {},
   "source": [
    "finding max age"
   ]
  },
  {
   "cell_type": "code",
   "execution_count": 16,
   "id": "0ca8426b",
   "metadata": {},
   "outputs": [
    {
     "data": {
      "text/plain": [
       "113"
      ]
     },
     "execution_count": 16,
     "metadata": {},
     "output_type": "execute_result"
    }
   ],
   "source": [
    "max(df['age'])"
   ]
  },
  {
   "cell_type": "code",
   "execution_count": 17,
   "id": "266e966a",
   "metadata": {},
   "outputs": [],
   "source": [
    "age_grp=['10-20','21-30','31-40','41-50','51-60','61-70','71-80','81-90','91-100','101-110','111-120']\n",
    "df['age_group'] = pd.cut(df.age,bins=np.arange(10,121,10),labels=age_grp,right=True)"
   ]
  },
  {
   "cell_type": "code",
   "execution_count": 18,
   "id": "a271b33c",
   "metadata": {},
   "outputs": [
    {
     "data": {
      "text/html": [
       "<div>\n",
       "<style scoped>\n",
       "    .dataframe tbody tr th:only-of-type {\n",
       "        vertical-align: middle;\n",
       "    }\n",
       "\n",
       "    .dataframe tbody tr th {\n",
       "        vertical-align: top;\n",
       "    }\n",
       "\n",
       "    .dataframe thead th {\n",
       "        text-align: right;\n",
       "    }\n",
       "</style>\n",
       "<table border=\"1\" class=\"dataframe\">\n",
       "  <thead>\n",
       "    <tr style=\"text-align: right;\">\n",
       "      <th></th>\n",
       "      <th>userid</th>\n",
       "      <th>age</th>\n",
       "      <th>dob_day</th>\n",
       "      <th>dob_year</th>\n",
       "      <th>dob_month</th>\n",
       "      <th>gender</th>\n",
       "      <th>tenure</th>\n",
       "      <th>friend_count</th>\n",
       "      <th>friendships_initiated</th>\n",
       "      <th>likes</th>\n",
       "      <th>likes_received</th>\n",
       "      <th>mobile_likes</th>\n",
       "      <th>mobile_likes_received</th>\n",
       "      <th>www_likes</th>\n",
       "      <th>www_likes_received</th>\n",
       "      <th>age_group</th>\n",
       "    </tr>\n",
       "  </thead>\n",
       "  <tbody>\n",
       "    <tr>\n",
       "      <th>0</th>\n",
       "      <td>2094382</td>\n",
       "      <td>14</td>\n",
       "      <td>19</td>\n",
       "      <td>1999</td>\n",
       "      <td>November</td>\n",
       "      <td>male</td>\n",
       "      <td>266</td>\n",
       "      <td>0</td>\n",
       "      <td>0</td>\n",
       "      <td>0</td>\n",
       "      <td>0</td>\n",
       "      <td>0</td>\n",
       "      <td>0</td>\n",
       "      <td>0</td>\n",
       "      <td>0</td>\n",
       "      <td>10-20</td>\n",
       "    </tr>\n",
       "    <tr>\n",
       "      <th>1</th>\n",
       "      <td>1192601</td>\n",
       "      <td>14</td>\n",
       "      <td>2</td>\n",
       "      <td>1999</td>\n",
       "      <td>November</td>\n",
       "      <td>female</td>\n",
       "      <td>6</td>\n",
       "      <td>0</td>\n",
       "      <td>0</td>\n",
       "      <td>0</td>\n",
       "      <td>0</td>\n",
       "      <td>0</td>\n",
       "      <td>0</td>\n",
       "      <td>0</td>\n",
       "      <td>0</td>\n",
       "      <td>10-20</td>\n",
       "    </tr>\n",
       "    <tr>\n",
       "      <th>2</th>\n",
       "      <td>2083884</td>\n",
       "      <td>14</td>\n",
       "      <td>16</td>\n",
       "      <td>1999</td>\n",
       "      <td>November</td>\n",
       "      <td>male</td>\n",
       "      <td>13</td>\n",
       "      <td>0</td>\n",
       "      <td>0</td>\n",
       "      <td>0</td>\n",
       "      <td>0</td>\n",
       "      <td>0</td>\n",
       "      <td>0</td>\n",
       "      <td>0</td>\n",
       "      <td>0</td>\n",
       "      <td>10-20</td>\n",
       "    </tr>\n",
       "    <tr>\n",
       "      <th>3</th>\n",
       "      <td>1203168</td>\n",
       "      <td>14</td>\n",
       "      <td>25</td>\n",
       "      <td>1999</td>\n",
       "      <td>December</td>\n",
       "      <td>female</td>\n",
       "      <td>93</td>\n",
       "      <td>0</td>\n",
       "      <td>0</td>\n",
       "      <td>0</td>\n",
       "      <td>0</td>\n",
       "      <td>0</td>\n",
       "      <td>0</td>\n",
       "      <td>0</td>\n",
       "      <td>0</td>\n",
       "      <td>10-20</td>\n",
       "    </tr>\n",
       "    <tr>\n",
       "      <th>4</th>\n",
       "      <td>1733186</td>\n",
       "      <td>14</td>\n",
       "      <td>4</td>\n",
       "      <td>1999</td>\n",
       "      <td>December</td>\n",
       "      <td>male</td>\n",
       "      <td>82</td>\n",
       "      <td>0</td>\n",
       "      <td>0</td>\n",
       "      <td>0</td>\n",
       "      <td>0</td>\n",
       "      <td>0</td>\n",
       "      <td>0</td>\n",
       "      <td>0</td>\n",
       "      <td>0</td>\n",
       "      <td>10-20</td>\n",
       "    </tr>\n",
       "    <tr>\n",
       "      <th>5</th>\n",
       "      <td>1524765</td>\n",
       "      <td>14</td>\n",
       "      <td>1</td>\n",
       "      <td>1999</td>\n",
       "      <td>December</td>\n",
       "      <td>male</td>\n",
       "      <td>15</td>\n",
       "      <td>0</td>\n",
       "      <td>0</td>\n",
       "      <td>0</td>\n",
       "      <td>0</td>\n",
       "      <td>0</td>\n",
       "      <td>0</td>\n",
       "      <td>0</td>\n",
       "      <td>0</td>\n",
       "      <td>10-20</td>\n",
       "    </tr>\n",
       "    <tr>\n",
       "      <th>6</th>\n",
       "      <td>1136133</td>\n",
       "      <td>13</td>\n",
       "      <td>14</td>\n",
       "      <td>2000</td>\n",
       "      <td>January</td>\n",
       "      <td>male</td>\n",
       "      <td>12</td>\n",
       "      <td>0</td>\n",
       "      <td>0</td>\n",
       "      <td>0</td>\n",
       "      <td>0</td>\n",
       "      <td>0</td>\n",
       "      <td>0</td>\n",
       "      <td>0</td>\n",
       "      <td>0</td>\n",
       "      <td>10-20</td>\n",
       "    </tr>\n",
       "    <tr>\n",
       "      <th>7</th>\n",
       "      <td>1680361</td>\n",
       "      <td>13</td>\n",
       "      <td>4</td>\n",
       "      <td>2000</td>\n",
       "      <td>January</td>\n",
       "      <td>female</td>\n",
       "      <td>0</td>\n",
       "      <td>0</td>\n",
       "      <td>0</td>\n",
       "      <td>0</td>\n",
       "      <td>0</td>\n",
       "      <td>0</td>\n",
       "      <td>0</td>\n",
       "      <td>0</td>\n",
       "      <td>0</td>\n",
       "      <td>10-20</td>\n",
       "    </tr>\n",
       "    <tr>\n",
       "      <th>8</th>\n",
       "      <td>1365174</td>\n",
       "      <td>13</td>\n",
       "      <td>1</td>\n",
       "      <td>2000</td>\n",
       "      <td>January</td>\n",
       "      <td>male</td>\n",
       "      <td>81</td>\n",
       "      <td>0</td>\n",
       "      <td>0</td>\n",
       "      <td>0</td>\n",
       "      <td>0</td>\n",
       "      <td>0</td>\n",
       "      <td>0</td>\n",
       "      <td>0</td>\n",
       "      <td>0</td>\n",
       "      <td>10-20</td>\n",
       "    </tr>\n",
       "    <tr>\n",
       "      <th>9</th>\n",
       "      <td>1712567</td>\n",
       "      <td>13</td>\n",
       "      <td>2</td>\n",
       "      <td>2000</td>\n",
       "      <td>February</td>\n",
       "      <td>male</td>\n",
       "      <td>171</td>\n",
       "      <td>0</td>\n",
       "      <td>0</td>\n",
       "      <td>0</td>\n",
       "      <td>0</td>\n",
       "      <td>0</td>\n",
       "      <td>0</td>\n",
       "      <td>0</td>\n",
       "      <td>0</td>\n",
       "      <td>10-20</td>\n",
       "    </tr>\n",
       "  </tbody>\n",
       "</table>\n",
       "</div>"
      ],
      "text/plain": [
       "    userid  age  dob_day  dob_year dob_month  gender  tenure  friend_count  \\\n",
       "0  2094382   14       19      1999  November    male     266             0   \n",
       "1  1192601   14        2      1999  November  female       6             0   \n",
       "2  2083884   14       16      1999  November    male      13             0   \n",
       "3  1203168   14       25      1999  December  female      93             0   \n",
       "4  1733186   14        4      1999  December    male      82             0   \n",
       "5  1524765   14        1      1999  December    male      15             0   \n",
       "6  1136133   13       14      2000   January    male      12             0   \n",
       "7  1680361   13        4      2000   January  female       0             0   \n",
       "8  1365174   13        1      2000   January    male      81             0   \n",
       "9  1712567   13        2      2000  February    male     171             0   \n",
       "\n",
       "   friendships_initiated  likes  likes_received  mobile_likes  \\\n",
       "0                      0      0               0             0   \n",
       "1                      0      0               0             0   \n",
       "2                      0      0               0             0   \n",
       "3                      0      0               0             0   \n",
       "4                      0      0               0             0   \n",
       "5                      0      0               0             0   \n",
       "6                      0      0               0             0   \n",
       "7                      0      0               0             0   \n",
       "8                      0      0               0             0   \n",
       "9                      0      0               0             0   \n",
       "\n",
       "   mobile_likes_received  www_likes  www_likes_received age_group  \n",
       "0                      0          0                   0     10-20  \n",
       "1                      0          0                   0     10-20  \n",
       "2                      0          0                   0     10-20  \n",
       "3                      0          0                   0     10-20  \n",
       "4                      0          0                   0     10-20  \n",
       "5                      0          0                   0     10-20  \n",
       "6                      0          0                   0     10-20  \n",
       "7                      0          0                   0     10-20  \n",
       "8                      0          0                   0     10-20  \n",
       "9                      0          0                   0     10-20  "
      ]
     },
     "execution_count": 18,
     "metadata": {},
     "output_type": "execute_result"
    }
   ],
   "source": [
    "df.head(10)\n"
   ]
  },
  {
   "cell_type": "markdown",
   "id": "57a86187",
   "metadata": {},
   "source": [
    "counting age groups"
   ]
  },
  {
   "cell_type": "code",
   "execution_count": 19,
   "id": "ef5fe789",
   "metadata": {},
   "outputs": [
    {
     "data": {
      "text/plain": [
       "21-30      28634\n",
       "10-20      24747\n",
       "31-40      12487\n",
       "51-60       9288\n",
       "41-50       8962\n",
       "61-70       6830\n",
       "101-110     3409\n",
       "71-80       2234\n",
       "91-100      1201\n",
       "81-90        803\n",
       "111-120      231\n",
       "Name: age_group, dtype: int64"
      ]
     },
     "execution_count": 19,
     "metadata": {},
     "output_type": "execute_result"
    }
   ],
   "source": [
    "df['age_group'].value_counts()"
   ]
  },
  {
   "cell_type": "markdown",
   "id": "dcad2aad",
   "metadata": {},
   "source": [
    "counting Male And Female"
   ]
  },
  {
   "cell_type": "code",
   "execution_count": 20,
   "id": "a073f6aa",
   "metadata": {},
   "outputs": [
    {
     "data": {
      "text/plain": [
       "male      58574\n",
       "female    40252\n",
       "Name: gender, dtype: int64"
      ]
     },
     "execution_count": 20,
     "metadata": {},
     "output_type": "execute_result"
    }
   ],
   "source": [
    "df['gender'].value_counts()"
   ]
  },
  {
   "cell_type": "markdown",
   "id": "19011172",
   "metadata": {},
   "source": [
    "counting total likes "
   ]
  },
  {
   "cell_type": "code",
   "execution_count": 21,
   "id": "60ed0d15",
   "metadata": {},
   "outputs": [
    {
     "data": {
      "text/plain": [
       "15427901"
      ]
     },
     "execution_count": 21,
     "metadata": {},
     "output_type": "execute_result"
    }
   ],
   "source": [
    "df['likes'].sum()"
   ]
  },
  {
   "cell_type": "markdown",
   "id": "924455e2",
   "metadata": {},
   "source": [
    "counting total friend count"
   ]
  },
  {
   "cell_type": "code",
   "execution_count": 22,
   "id": "aa180b74",
   "metadata": {},
   "outputs": [
    {
     "data": {
      "text/plain": [
       "19406860"
      ]
     },
     "execution_count": 22,
     "metadata": {},
     "output_type": "execute_result"
    }
   ],
   "source": [
    "df['friend_count'].sum()"
   ]
  },
  {
   "cell_type": "code",
   "execution_count": 23,
   "id": "0b482677",
   "metadata": {},
   "outputs": [],
   "source": [
    "df.describe()\n",
    "df.sort_values('age_group',ascending=True,inplace=True)\n",
    "df1= df['age_group'].value_counts().reset_index().rename(columns={'age_group':'count','index':'age_group'})"
   ]
  },
  {
   "cell_type": "markdown",
   "id": "301df08b",
   "metadata": {},
   "source": [
    "ploting a graph basis on age group"
   ]
  },
  {
   "cell_type": "code",
   "execution_count": 24,
   "id": "8b763012",
   "metadata": {},
   "outputs": [
    {
     "data": {
      "text/plain": [
       "<Axes: xlabel='age_group', ylabel='count'>"
      ]
     },
     "execution_count": 24,
     "metadata": {},
     "output_type": "execute_result"
    },
    {
     "data": {
      "image/png": "[encoded data removed]",
      "text/plain": [
       "<Figure size 1200x500 with 1 Axes>"
      ]
     },
     "metadata": {},
     "output_type": "display_data"
    }
   ],
   "source": [
    "\n",
    "plt.figure(figsize=(12,5))\n",
    "sns.pointplot(x='age_group',y='count',data=df1,color='aqua')"
   ]
  },
  {
   "cell_type": "markdown",
   "id": "c681eca5",
   "metadata": {},
   "source": [
    "Basis on the given chart we can say that the age group of 10-20 and 20-30 has the high number of users\n"
   ]
  },
  {
   "cell_type": "markdown",
   "id": "907e153e",
   "metadata": {},
   "source": [
    "now get the which age has high number of users "
   ]
  },
  {
   "cell_type": "code",
   "execution_count": 25,
   "id": "291f8818",
   "metadata": {},
   "outputs": [
    {
     "data": {
      "text/plain": [
       "10"
      ]
     },
     "execution_count": 25,
     "metadata": {},
     "output_type": "execute_result"
    }
   ],
   "source": [
    "age_filter = df[(df['age']>=21) & (df['age']<=30)]\n",
    "age_filter['age'].nunique()"
   ]
  },
  {
   "cell_type": "code",
   "execution_count": 26,
   "id": "f8a887cb",
   "metadata": {},
   "outputs": [
    {
     "data": {
      "text/plain": [
       "23    4402\n",
       "21    3670\n",
       "25    3636\n",
       "22    3032\n",
       "24    2827\n",
       "26    2814\n",
       "28    2363\n",
       "27    2239\n",
       "29    1935\n",
       "30    1716\n",
       "Name: age, dtype: int64"
      ]
     },
     "execution_count": 26,
     "metadata": {},
     "output_type": "execute_result"
    }
   ],
   "source": [
    "age_filter['age'].value_counts()"
   ]
  },
  {
   "cell_type": "markdown",
   "id": "aec60348",
   "metadata": {},
   "source": [
    "now ploting a graph "
   ]
  },
  {
   "cell_type": "code",
   "execution_count": 27,
   "id": "d4461f67",
   "metadata": {},
   "outputs": [
    {
     "data": {
      "text/plain": [
       "<Axes: xlabel='Age', ylabel='count'>"
      ]
     },
     "execution_count": 27,
     "metadata": {},
     "output_type": "execute_result"
    },
    {
     "data": {
      "image/png": "[encoded data removed]",
      "text/plain": [
       "<Figure size 640x480 with 1 Axes>"
      ]
     },
     "metadata": {},
     "output_type": "display_data"
    }
   ],
   "source": [
    "for_plot =  age_filter['age'].value_counts().reset_index()\n",
    "for_plot.columns=['Age','count']\n",
    "sns.barplot(data= for_plot, x= 'Age', y='count')"
   ]
  },
  {
   "cell_type": "markdown",
   "id": "ffb27861",
   "metadata": {},
   "source": [
    "On the basis on Age we can say that number of users in  23 age more"
   ]
  },
  {
   "cell_type": "markdown",
   "id": "af6f1520",
   "metadata": {},
   "source": [
    "now Checking which gender is using more in 23 age \n",
    "\n",
    "first check number of male and female users "
   ]
  },
  {
   "cell_type": "code",
   "execution_count": 28,
   "id": "861c6018",
   "metadata": {},
   "outputs": [],
   "source": [
    "gen =  df['gender']"
   ]
  },
  {
   "cell_type": "code",
   "execution_count": 29,
   "id": "0c439465",
   "metadata": {},
   "outputs": [
    {
     "data": {
      "text/plain": [
       "male      58574\n",
       "female    40252\n",
       "Name: gender, dtype: int64"
      ]
     },
     "execution_count": 29,
     "metadata": {},
     "output_type": "execute_result"
    }
   ],
   "source": [
    "gen.value_counts()"
   ]
  },
  {
   "cell_type": "markdown",
   "id": "a9c74439",
   "metadata": {},
   "source": [
    "\n",
    "users in age 23"
   ]
  },
  {
   "cell_type": "markdown",
   "id": "477453c5",
   "metadata": {},
   "source": [
    "now creating new data frame for gender"
   ]
  },
  {
   "cell_type": "code",
   "execution_count": 30,
   "id": "5d7cae34",
   "metadata": {},
   "outputs": [
    {
     "data": {
      "text/html": [
       "<div>\n",
       "<style scoped>\n",
       "    .dataframe tbody tr th:only-of-type {\n",
       "        vertical-align: middle;\n",
       "    }\n",
       "\n",
       "    .dataframe tbody tr th {\n",
       "        vertical-align: top;\n",
       "    }\n",
       "\n",
       "    .dataframe thead th {\n",
       "        text-align: right;\n",
       "    }\n",
       "</style>\n",
       "<table border=\"1\" class=\"dataframe\">\n",
       "  <thead>\n",
       "    <tr style=\"text-align: right;\">\n",
       "      <th></th>\n",
       "      <th>gender</th>\n",
       "    </tr>\n",
       "  </thead>\n",
       "  <tbody>\n",
       "    <tr>\n",
       "      <th>55087</th>\n",
       "      <td>female</td>\n",
       "    </tr>\n",
       "    <tr>\n",
       "      <th>80079</th>\n",
       "      <td>female</td>\n",
       "    </tr>\n",
       "    <tr>\n",
       "      <th>80078</th>\n",
       "      <td>female</td>\n",
       "    </tr>\n",
       "    <tr>\n",
       "      <th>82823</th>\n",
       "      <td>female</td>\n",
       "    </tr>\n",
       "    <tr>\n",
       "      <th>5014</th>\n",
       "      <td>female</td>\n",
       "    </tr>\n",
       "    <tr>\n",
       "      <th>...</th>\n",
       "      <td>...</td>\n",
       "    </tr>\n",
       "    <tr>\n",
       "      <th>76849</th>\n",
       "      <td>male</td>\n",
       "    </tr>\n",
       "    <tr>\n",
       "      <th>76785</th>\n",
       "      <td>male</td>\n",
       "    </tr>\n",
       "    <tr>\n",
       "      <th>84688</th>\n",
       "      <td>male</td>\n",
       "    </tr>\n",
       "    <tr>\n",
       "      <th>84593</th>\n",
       "      <td>male</td>\n",
       "    </tr>\n",
       "    <tr>\n",
       "      <th>38179</th>\n",
       "      <td>male</td>\n",
       "    </tr>\n",
       "  </tbody>\n",
       "</table>\n",
       "<p>4402 rows × 1 columns</p>\n",
       "</div>"
      ],
      "text/plain": [
       "       gender\n",
       "55087  female\n",
       "80079  female\n",
       "80078  female\n",
       "82823  female\n",
       "5014   female\n",
       "...       ...\n",
       "76849    male\n",
       "76785    male\n",
       "84688    male\n",
       "84593    male\n",
       "38179    male\n",
       "\n",
       "[4402 rows x 1 columns]"
      ]
     },
     "execution_count": 30,
     "metadata": {},
     "output_type": "execute_result"
    }
   ],
   "source": [
    "new_age_df = df[df['age']==23]\n",
    "gender_df = pd.DataFrame(new_age_df['gender'])\n",
    "gender_df.value_counts()\n",
    "gender_df.sort_values('gender',ascending=True,inplace=True)\n",
    "gender_df\n"
   ]
  },
  {
   "cell_type": "code",
   "execution_count": 31,
   "id": "9b8a62ad",
   "metadata": {},
   "outputs": [],
   "source": [
    "new_gen =  gender_df['gender'].value_counts().reset_index().rename(columns={'gender':'gender','index':'count'})"
   ]
  },
  {
   "cell_type": "code",
   "execution_count": 32,
   "id": "623e64ee",
   "metadata": {},
   "outputs": [
    {
     "data": {
      "text/plain": [
       "<Axes: xlabel='count', ylabel='gender'>"
      ]
     },
     "execution_count": 32,
     "metadata": {},
     "output_type": "execute_result"
    },
    {
     "data": {
      "image/png": "[encoded data removed]",
      "text/plain": [
       "<Figure size 500x500 with 1 Axes>"
      ]
     },
     "metadata": {},
     "output_type": "display_data"
    }
   ],
   "source": [
    "plt.figure(figsize=(5,5))\n",
    "sns.barplot(data =new_gen, x= 'count', y='gender')"
   ]
  },
  {
   "cell_type": "markdown",
   "id": "6cdde048",
   "metadata": {},
   "source": [
    "On the above figure we can say  the age 23 user are more and male user in age 23 is more compare to female"
   ]
  },
  {
   "cell_type": "markdown",
   "id": "44a44c04",
   "metadata": {},
   "source": [
    "checking which gender has more number of friend"
   ]
  },
  {
   "cell_type": "code",
   "execution_count": 33,
   "id": "eea071f5",
   "metadata": {},
   "outputs": [],
   "source": [
    "friend_count =  df[['friend_count','gender']]"
   ]
  },
  {
   "cell_type": "code",
   "execution_count": 34,
   "id": "2e7d2570",
   "metadata": {},
   "outputs": [],
   "source": [
    "friend_gender_count = friend_count.groupby('gender')['friend_count'].sum()"
   ]
  },
  {
   "cell_type": "code",
   "execution_count": 35,
   "id": "bb252136",
   "metadata": {},
   "outputs": [],
   "source": [
    "friend_gender_count = friend_gender_count.reset_index().rename(columns={'gender':'gender','friend_count':'friend_count'})"
   ]
  },
  {
   "cell_type": "code",
   "execution_count": 36,
   "id": "7d46c7ee",
   "metadata": {},
   "outputs": [
    {
     "data": {
      "text/html": [
       "<div>\n",
       "<style scoped>\n",
       "    .dataframe tbody tr th:only-of-type {\n",
       "        vertical-align: middle;\n",
       "    }\n",
       "\n",
       "    .dataframe tbody tr th {\n",
       "        vertical-align: top;\n",
       "    }\n",
       "\n",
       "    .dataframe thead th {\n",
       "        text-align: right;\n",
       "    }\n",
       "</style>\n",
       "<table border=\"1\" class=\"dataframe\">\n",
       "  <thead>\n",
       "    <tr style=\"text-align: right;\">\n",
       "      <th></th>\n",
       "      <th>gender</th>\n",
       "      <th>friend_count</th>\n",
       "    </tr>\n",
       "  </thead>\n",
       "  <tbody>\n",
       "    <tr>\n",
       "      <th>0</th>\n",
       "      <td>female</td>\n",
       "      <td>9740073</td>\n",
       "    </tr>\n",
       "    <tr>\n",
       "      <th>1</th>\n",
       "      <td>male</td>\n",
       "      <td>9666787</td>\n",
       "    </tr>\n",
       "  </tbody>\n",
       "</table>\n",
       "</div>"
      ],
      "text/plain": [
       "   gender  friend_count\n",
       "0  female       9740073\n",
       "1    male       9666787"
      ]
     },
     "execution_count": 36,
     "metadata": {},
     "output_type": "execute_result"
    }
   ],
   "source": [
    "friend_gender_count"
   ]
  },
  {
   "cell_type": "markdown",
   "id": "72c39744",
   "metadata": {},
   "source": [
    "On the basis of above table we can say that female has high number of friend count"
   ]
  },
  {
   "cell_type": "code",
   "execution_count": 37,
   "id": "76e481a7",
   "metadata": {},
   "outputs": [
    {
     "data": {
      "text/plain": [
       "<Axes: xlabel='age_group', ylabel='friend_count'>"
      ]
     },
     "execution_count": 37,
     "metadata": {},
     "output_type": "execute_result"
    },
    {
     "data": {
      "image/png": "[encoded data removed]",
      "text/plain": [
       "<Figure size 1200x500 with 1 Axes>"
      ]
     },
     "metadata": {},
     "output_type": "display_data"
    }
   ],
   "source": [
    "plt.figure(figsize=(12,5))\n",
    "\n",
    "sns.scatterplot(x='age_group',y='friend_count',data=df,color='orange')"
   ]
  },
  {
   "cell_type": "markdown",
   "id": "f92f5003",
   "metadata": {},
   "source": [
    "who has highest friend count "
   ]
  },
  {
   "cell_type": "code",
   "execution_count": 38,
   "id": "6ae66257",
   "metadata": {},
   "outputs": [
    {
     "data": {
      "text/html": [
       "<div>\n",
       "<style scoped>\n",
       "    .dataframe tbody tr th:only-of-type {\n",
       "        vertical-align: middle;\n",
       "    }\n",
       "\n",
       "    .dataframe tbody tr th {\n",
       "        vertical-align: top;\n",
       "    }\n",
       "\n",
       "    .dataframe thead th {\n",
       "        text-align: right;\n",
       "    }\n",
       "</style>\n",
       "<table border=\"1\" class=\"dataframe\">\n",
       "  <thead>\n",
       "    <tr style=\"text-align: right;\">\n",
       "      <th></th>\n",
       "      <th>age</th>\n",
       "      <th>gender</th>\n",
       "      <th>friend_count</th>\n",
       "    </tr>\n",
       "  </thead>\n",
       "  <tbody>\n",
       "    <tr>\n",
       "      <th>98159</th>\n",
       "      <td>103</td>\n",
       "      <td>female</td>\n",
       "      <td>4923</td>\n",
       "    </tr>\n",
       "  </tbody>\n",
       "</table>\n",
       "</div>"
      ],
      "text/plain": [
       "       age  gender  friend_count\n",
       "98159  103  female          4923"
      ]
     },
     "execution_count": 38,
     "metadata": {},
     "output_type": "execute_result"
    }
   ],
   "source": [
    "df[df['friend_count']==df['friend_count'].max()][['age','gender','friend_count']]\n"
   ]
  },
  {
   "cell_type": "code",
   "execution_count": 39,
   "id": "c6a32301",
   "metadata": {},
   "outputs": [
    {
     "data": {
      "text/plain": [
       "<Axes: xlabel='age_group', ylabel='likes_received'>"
      ]
     },
     "execution_count": 39,
     "metadata": {},
     "output_type": "execute_result"
    },
    {
     "data": {
      "image/png": "[encoded data removed]",
      "text/plain": [
       "<Figure size 1200x500 with 1 Axes>"
      ]
     },
     "metadata": {},
     "output_type": "display_data"
    }
   ],
   "source": [
    "plt.figure(figsize=(12,5))\n",
    "sns.barplot(x='age_group',y='likes_received',data=df,hue='gender')"
   ]
  },
  {
   "cell_type": "markdown",
   "id": "09083a54",
   "metadata": {},
   "source": [
    "on the basis of the following plot we can say that age grop 10-20 has the highest number of like received "
   ]
  },
  {
   "cell_type": "markdown",
   "id": "395602ff",
   "metadata": {},
   "source": [
    "Which age among the 10-20 age group has highest number of likes received?"
   ]
  },
  {
   "cell_type": "code",
   "execution_count": 40,
   "id": "0614fbac",
   "metadata": {},
   "outputs": [
    {
     "data": {
      "text/html": [
       "<div>\n",
       "<style scoped>\n",
       "    .dataframe tbody tr th:only-of-type {\n",
       "        vertical-align: middle;\n",
       "    }\n",
       "\n",
       "    .dataframe tbody tr th {\n",
       "        vertical-align: top;\n",
       "    }\n",
       "\n",
       "    .dataframe thead th {\n",
       "        text-align: right;\n",
       "    }\n",
       "</style>\n",
       "<table border=\"1\" class=\"dataframe\">\n",
       "  <thead>\n",
       "    <tr style=\"text-align: right;\">\n",
       "      <th></th>\n",
       "      <th>userid</th>\n",
       "      <th>age</th>\n",
       "      <th>dob_day</th>\n",
       "      <th>dob_year</th>\n",
       "      <th>dob_month</th>\n",
       "      <th>gender</th>\n",
       "      <th>tenure</th>\n",
       "      <th>friend_count</th>\n",
       "      <th>friendships_initiated</th>\n",
       "      <th>likes</th>\n",
       "      <th>likes_received</th>\n",
       "      <th>mobile_likes</th>\n",
       "      <th>mobile_likes_received</th>\n",
       "      <th>www_likes</th>\n",
       "      <th>www_likes_received</th>\n",
       "      <th>age_group</th>\n",
       "    </tr>\n",
       "  </thead>\n",
       "  <tbody>\n",
       "    <tr>\n",
       "      <th>0</th>\n",
       "      <td>2094382</td>\n",
       "      <td>14</td>\n",
       "      <td>19</td>\n",
       "      <td>1999</td>\n",
       "      <td>November</td>\n",
       "      <td>male</td>\n",
       "      <td>266</td>\n",
       "      <td>0</td>\n",
       "      <td>0</td>\n",
       "      <td>0</td>\n",
       "      <td>0</td>\n",
       "      <td>0</td>\n",
       "      <td>0</td>\n",
       "      <td>0</td>\n",
       "      <td>0</td>\n",
       "      <td>10-20</td>\n",
       "    </tr>\n",
       "    <tr>\n",
       "      <th>22824</th>\n",
       "      <td>1017399</td>\n",
       "      <td>17</td>\n",
       "      <td>5</td>\n",
       "      <td>1996</td>\n",
       "      <td>May</td>\n",
       "      <td>female</td>\n",
       "      <td>88</td>\n",
       "      <td>28</td>\n",
       "      <td>27</td>\n",
       "      <td>6</td>\n",
       "      <td>40</td>\n",
       "      <td>6</td>\n",
       "      <td>40</td>\n",
       "      <td>0</td>\n",
       "      <td>0</td>\n",
       "      <td>10-20</td>\n",
       "    </tr>\n",
       "    <tr>\n",
       "      <th>22821</th>\n",
       "      <td>1024136</td>\n",
       "      <td>18</td>\n",
       "      <td>22</td>\n",
       "      <td>1995</td>\n",
       "      <td>November</td>\n",
       "      <td>female</td>\n",
       "      <td>241</td>\n",
       "      <td>28</td>\n",
       "      <td>27</td>\n",
       "      <td>6</td>\n",
       "      <td>6</td>\n",
       "      <td>6</td>\n",
       "      <td>4</td>\n",
       "      <td>0</td>\n",
       "      <td>2</td>\n",
       "      <td>10-20</td>\n",
       "    </tr>\n",
       "    <tr>\n",
       "      <th>70721</th>\n",
       "      <td>1069241</td>\n",
       "      <td>13</td>\n",
       "      <td>20</td>\n",
       "      <td>2000</td>\n",
       "      <td>January</td>\n",
       "      <td>male</td>\n",
       "      <td>260</td>\n",
       "      <td>178</td>\n",
       "      <td>140</td>\n",
       "      <td>39</td>\n",
       "      <td>10</td>\n",
       "      <td>0</td>\n",
       "      <td>0</td>\n",
       "      <td>39</td>\n",
       "      <td>10</td>\n",
       "      <td>10-20</td>\n",
       "    </tr>\n",
       "    <tr>\n",
       "      <th>22818</th>\n",
       "      <td>1235700</td>\n",
       "      <td>16</td>\n",
       "      <td>3</td>\n",
       "      <td>1997</td>\n",
       "      <td>August</td>\n",
       "      <td>male</td>\n",
       "      <td>55</td>\n",
       "      <td>28</td>\n",
       "      <td>17</td>\n",
       "      <td>6</td>\n",
       "      <td>0</td>\n",
       "      <td>6</td>\n",
       "      <td>0</td>\n",
       "      <td>0</td>\n",
       "      <td>0</td>\n",
       "      <td>10-20</td>\n",
       "    </tr>\n",
       "  </tbody>\n",
       "</table>\n",
       "</div>"
      ],
      "text/plain": [
       "        userid  age  dob_day  dob_year dob_month  gender  tenure  \\\n",
       "0      2094382   14       19      1999  November    male     266   \n",
       "22824  1017399   17        5      1996       May  female      88   \n",
       "22821  1024136   18       22      1995  November  female     241   \n",
       "70721  1069241   13       20      2000   January    male     260   \n",
       "22818  1235700   16        3      1997    August    male      55   \n",
       "\n",
       "       friend_count  friendships_initiated  likes  likes_received  \\\n",
       "0                 0                      0      0               0   \n",
       "22824            28                     27      6              40   \n",
       "22821            28                     27      6               6   \n",
       "70721           178                    140     39              10   \n",
       "22818            28                     17      6               0   \n",
       "\n",
       "       mobile_likes  mobile_likes_received  www_likes  www_likes_received  \\\n",
       "0                 0                      0          0                   0   \n",
       "22824             6                     40          0                   0   \n",
       "22821             6                      4          0                   2   \n",
       "70721             0                      0         39                  10   \n",
       "22818             6                      0          0                   0   \n",
       "\n",
       "      age_group  \n",
       "0         10-20  \n",
       "22824     10-20  \n",
       "22821     10-20  \n",
       "70721     10-20  \n",
       "22818     10-20  "
      ]
     },
     "execution_count": 40,
     "metadata": {},
     "output_type": "execute_result"
    }
   ],
   "source": [
    "df6=df[(df['age']>=10)&(df['age']<=20)]\n",
    "df6.head()"
   ]
  },
  {
   "cell_type": "code",
   "execution_count": 41,
   "id": "bf2cf304",
   "metadata": {
    "scrolled": true
   },
   "outputs": [
    {
     "data": {
      "text/plain": [
       "<Axes: xlabel='count', ylabel='age'>"
      ]
     },
     "execution_count": 41,
     "metadata": {},
     "output_type": "execute_result"
    },
    {
     "data": {
      "image/png": "[encoded data removed]",
      "text/plain": [
       "<Figure size 1200x500 with 1 Axes>"
      ]
     },
     "metadata": {},
     "output_type": "display_data"
    }
   ],
   "source": [
    "plt.figure(figsize=(12,5))\n",
    "sns.countplot(y='age',data=df6,palette='Set1')"
   ]
  },
  {
   "cell_type": "markdown",
   "id": "fa0b0d95",
   "metadata": {},
   "source": [
    "age 18 has received the high number of like "
   ]
  },
  {
   "cell_type": "markdown",
   "id": "596a3ca6",
   "metadata": {},
   "source": [
    "Who received the most number of likes aged 18?"
   ]
  },
  {
   "cell_type": "code",
   "execution_count": 42,
   "id": "bb7f0b07",
   "metadata": {},
   "outputs": [
    {
     "data": {
      "text/html": [
       "<div>\n",
       "<style scoped>\n",
       "    .dataframe tbody tr th:only-of-type {\n",
       "        vertical-align: middle;\n",
       "    }\n",
       "\n",
       "    .dataframe tbody tr th {\n",
       "        vertical-align: top;\n",
       "    }\n",
       "\n",
       "    .dataframe thead th {\n",
       "        text-align: right;\n",
       "    }\n",
       "</style>\n",
       "<table border=\"1\" class=\"dataframe\">\n",
       "  <thead>\n",
       "    <tr style=\"text-align: right;\">\n",
       "      <th></th>\n",
       "      <th>userid</th>\n",
       "      <th>age</th>\n",
       "      <th>dob_day</th>\n",
       "      <th>dob_year</th>\n",
       "      <th>dob_month</th>\n",
       "      <th>gender</th>\n",
       "      <th>tenure</th>\n",
       "      <th>friend_count</th>\n",
       "      <th>friendships_initiated</th>\n",
       "      <th>likes</th>\n",
       "      <th>likes_received</th>\n",
       "      <th>mobile_likes</th>\n",
       "      <th>mobile_likes_received</th>\n",
       "      <th>www_likes</th>\n",
       "      <th>www_likes_received</th>\n",
       "      <th>age_group</th>\n",
       "    </tr>\n",
       "  </thead>\n",
       "  <tbody>\n",
       "    <tr>\n",
       "      <th>22821</th>\n",
       "      <td>1024136</td>\n",
       "      <td>18</td>\n",
       "      <td>22</td>\n",
       "      <td>1995</td>\n",
       "      <td>November</td>\n",
       "      <td>female</td>\n",
       "      <td>241</td>\n",
       "      <td>28</td>\n",
       "      <td>27</td>\n",
       "      <td>6</td>\n",
       "      <td>6</td>\n",
       "      <td>6</td>\n",
       "      <td>4</td>\n",
       "      <td>0</td>\n",
       "      <td>2</td>\n",
       "      <td>10-20</td>\n",
       "    </tr>\n",
       "    <tr>\n",
       "      <th>22815</th>\n",
       "      <td>1527708</td>\n",
       "      <td>18</td>\n",
       "      <td>27</td>\n",
       "      <td>1995</td>\n",
       "      <td>November</td>\n",
       "      <td>male</td>\n",
       "      <td>0</td>\n",
       "      <td>28</td>\n",
       "      <td>26</td>\n",
       "      <td>6</td>\n",
       "      <td>18</td>\n",
       "      <td>0</td>\n",
       "      <td>3</td>\n",
       "      <td>6</td>\n",
       "      <td>15</td>\n",
       "      <td>10-20</td>\n",
       "    </tr>\n",
       "    <tr>\n",
       "      <th>70736</th>\n",
       "      <td>2021709</td>\n",
       "      <td>18</td>\n",
       "      <td>16</td>\n",
       "      <td>1995</td>\n",
       "      <td>July</td>\n",
       "      <td>female</td>\n",
       "      <td>213</td>\n",
       "      <td>182</td>\n",
       "      <td>142</td>\n",
       "      <td>41</td>\n",
       "      <td>108</td>\n",
       "      <td>30</td>\n",
       "      <td>21</td>\n",
       "      <td>11</td>\n",
       "      <td>87</td>\n",
       "      <td>10-20</td>\n",
       "    </tr>\n",
       "    <tr>\n",
       "      <th>70705</th>\n",
       "      <td>1108977</td>\n",
       "      <td>18</td>\n",
       "      <td>1</td>\n",
       "      <td>1995</td>\n",
       "      <td>February</td>\n",
       "      <td>male</td>\n",
       "      <td>1108</td>\n",
       "      <td>178</td>\n",
       "      <td>62</td>\n",
       "      <td>35</td>\n",
       "      <td>3</td>\n",
       "      <td>15</td>\n",
       "      <td>2</td>\n",
       "      <td>20</td>\n",
       "      <td>1</td>\n",
       "      <td>10-20</td>\n",
       "    </tr>\n",
       "    <tr>\n",
       "      <th>70741</th>\n",
       "      <td>1928514</td>\n",
       "      <td>18</td>\n",
       "      <td>13</td>\n",
       "      <td>1995</td>\n",
       "      <td>December</td>\n",
       "      <td>male</td>\n",
       "      <td>31</td>\n",
       "      <td>179</td>\n",
       "      <td>147</td>\n",
       "      <td>45</td>\n",
       "      <td>308</td>\n",
       "      <td>21</td>\n",
       "      <td>85</td>\n",
       "      <td>24</td>\n",
       "      <td>223</td>\n",
       "      <td>10-20</td>\n",
       "    </tr>\n",
       "  </tbody>\n",
       "</table>\n",
       "</div>"
      ],
      "text/plain": [
       "        userid  age  dob_day  dob_year dob_month  gender  tenure  \\\n",
       "22821  1024136   18       22      1995  November  female     241   \n",
       "22815  1527708   18       27      1995  November    male       0   \n",
       "70736  2021709   18       16      1995      July  female     213   \n",
       "70705  1108977   18        1      1995  February    male    1108   \n",
       "70741  1928514   18       13      1995  December    male      31   \n",
       "\n",
       "       friend_count  friendships_initiated  likes  likes_received  \\\n",
       "22821            28                     27      6               6   \n",
       "22815            28                     26      6              18   \n",
       "70736           182                    142     41             108   \n",
       "70705           178                     62     35               3   \n",
       "70741           179                    147     45             308   \n",
       "\n",
       "       mobile_likes  mobile_likes_received  www_likes  www_likes_received  \\\n",
       "22821             6                      4          0                   2   \n",
       "22815             0                      3          6                  15   \n",
       "70736            30                     21         11                  87   \n",
       "70705            15                      2         20                   1   \n",
       "70741            21                     85         24                 223   \n",
       "\n",
       "      age_group  \n",
       "22821     10-20  \n",
       "22815     10-20  \n",
       "70736     10-20  \n",
       "70705     10-20  \n",
       "70741     10-20  "
      ]
     },
     "execution_count": 42,
     "metadata": {},
     "output_type": "execute_result"
    }
   ],
   "source": [
    "\n",
    "df7=df[df['age']==18]\n",
    "df7.head()"
   ]
  },
  {
   "cell_type": "code",
   "execution_count": 43,
   "id": "57e56f34",
   "metadata": {},
   "outputs": [
    {
     "data": {
      "text/plain": [
       "<Axes: xlabel='gender', ylabel='likes_received'>"
      ]
     },
     "execution_count": 43,
     "metadata": {},
     "output_type": "execute_result"
    },
    {
     "data": {
      "image/png": "[encoded data removed]",
      "text/plain": [
       "<Figure size 1200x500 with 1 Axes>"
      ]
     },
     "metadata": {},
     "output_type": "display_data"
    }
   ],
   "source": [
    "plt.figure(figsize=(12,5))\n",
    "sns.boxplot(y='likes_received',x='gender',data=df7)\n"
   ]
  },
  {
   "cell_type": "markdown",
   "id": "41473529",
   "metadata": {},
   "source": [
    "Male has an outlier which shows the person has highest number of likes received"
   ]
  },
  {
   "cell_type": "code",
   "execution_count": 44,
   "id": "029a0dd5",
   "metadata": {},
   "outputs": [
    {
     "data": {
      "text/html": [
       "<div>\n",
       "<style scoped>\n",
       "    .dataframe tbody tr th:only-of-type {\n",
       "        vertical-align: middle;\n",
       "    }\n",
       "\n",
       "    .dataframe tbody tr th {\n",
       "        vertical-align: top;\n",
       "    }\n",
       "\n",
       "    .dataframe thead th {\n",
       "        text-align: right;\n",
       "    }\n",
       "</style>\n",
       "<table border=\"1\" class=\"dataframe\">\n",
       "  <thead>\n",
       "    <tr style=\"text-align: right;\">\n",
       "      <th></th>\n",
       "      <th>age</th>\n",
       "      <th>gender</th>\n",
       "      <th>friend_count</th>\n",
       "      <th>likes_received</th>\n",
       "    </tr>\n",
       "  </thead>\n",
       "  <tbody>\n",
       "    <tr>\n",
       "      <th>98773</th>\n",
       "      <td>18</td>\n",
       "      <td>male</td>\n",
       "      <td>4817</td>\n",
       "      <td>52964</td>\n",
       "    </tr>\n",
       "  </tbody>\n",
       "</table>\n",
       "</div>"
      ],
      "text/plain": [
       "       age gender  friend_count  likes_received\n",
       "98773   18   male          4817           52964"
      ]
     },
     "execution_count": 44,
     "metadata": {},
     "output_type": "execute_result"
    }
   ],
   "source": [
    "df8=df7[df7['likes_received']==df7['likes_received'].max()]\n",
    "df8[['age','gender','friend_count','likes_received']]"
   ]
  },
  {
   "cell_type": "code",
   "execution_count": 45,
   "id": "f4a7dd99",
   "metadata": {},
   "outputs": [
    {
     "data": {
      "text/html": [
       "<div>\n",
       "<style scoped>\n",
       "    .dataframe tbody tr th:only-of-type {\n",
       "        vertical-align: middle;\n",
       "    }\n",
       "\n",
       "    .dataframe tbody tr th {\n",
       "        vertical-align: top;\n",
       "    }\n",
       "\n",
       "    .dataframe thead th {\n",
       "        text-align: right;\n",
       "    }\n",
       "</style>\n",
       "<table border=\"1\" class=\"dataframe\">\n",
       "  <thead>\n",
       "    <tr style=\"text-align: right;\">\n",
       "      <th></th>\n",
       "      <th>month</th>\n",
       "      <th>dob_month</th>\n",
       "    </tr>\n",
       "  </thead>\n",
       "  <tbody>\n",
       "    <tr>\n",
       "      <th>0</th>\n",
       "      <td>January</td>\n",
       "      <td>11737</td>\n",
       "    </tr>\n",
       "    <tr>\n",
       "      <th>1</th>\n",
       "      <td>October</td>\n",
       "      <td>8466</td>\n",
       "    </tr>\n",
       "    <tr>\n",
       "      <th>2</th>\n",
       "      <td>May</td>\n",
       "      <td>8260</td>\n",
       "    </tr>\n",
       "    <tr>\n",
       "      <th>3</th>\n",
       "      <td>August</td>\n",
       "      <td>8255</td>\n",
       "    </tr>\n",
       "    <tr>\n",
       "      <th>4</th>\n",
       "      <td>March</td>\n",
       "      <td>8095</td>\n",
       "    </tr>\n",
       "    <tr>\n",
       "      <th>5</th>\n",
       "      <td>July</td>\n",
       "      <td>8006</td>\n",
       "    </tr>\n",
       "    <tr>\n",
       "      <th>6</th>\n",
       "      <td>September</td>\n",
       "      <td>7923</td>\n",
       "    </tr>\n",
       "    <tr>\n",
       "      <th>7</th>\n",
       "      <td>December</td>\n",
       "      <td>7883</td>\n",
       "    </tr>\n",
       "    <tr>\n",
       "      <th>8</th>\n",
       "      <td>April</td>\n",
       "      <td>7794</td>\n",
       "    </tr>\n",
       "    <tr>\n",
       "      <th>9</th>\n",
       "      <td>February</td>\n",
       "      <td>7617</td>\n",
       "    </tr>\n",
       "    <tr>\n",
       "      <th>10</th>\n",
       "      <td>June</td>\n",
       "      <td>7594</td>\n",
       "    </tr>\n",
       "    <tr>\n",
       "      <th>11</th>\n",
       "      <td>November</td>\n",
       "      <td>7196</td>\n",
       "    </tr>\n",
       "  </tbody>\n",
       "</table>\n",
       "</div>"
      ],
      "text/plain": [
       "        month  dob_month\n",
       "0     January      11737\n",
       "1     October       8466\n",
       "2         May       8260\n",
       "3      August       8255\n",
       "4       March       8095\n",
       "5        July       8006\n",
       "6   September       7923\n",
       "7    December       7883\n",
       "8       April       7794\n",
       "9    February       7617\n",
       "10       June       7594\n",
       "11   November       7196"
      ]
     },
     "execution_count": 45,
     "metadata": {},
     "output_type": "execute_result"
    }
   ],
   "source": [
    "df9=df['dob_month'].value_counts().reset_index().rename(columns={'dob_month_name':'count','index':'month'})\n",
    "df9"
   ]
  },
  {
   "cell_type": "code",
   "execution_count": 46,
   "id": "75c265a9",
   "metadata": {},
   "outputs": [
    {
     "data": {
      "text/plain": [
       "<Axes: xlabel='dob_year', ylabel='Density'>"
      ]
     },
     "execution_count": 46,
     "metadata": {},
     "output_type": "execute_result"
    },
    {
     "data": {
      "image/png": "[encoded data removed]",
      "text/plain": [
       "<Figure size 1200x500 with 1 Axes>"
      ]
     },
     "metadata": {},
     "output_type": "display_data"
    }
   ],
   "source": [
    "plt.figure(figsize=(12,5))\n",
    "sns.kdeplot(df['dob_year'],color='lightpink',fill=True)"
   ]
  },
  {
   "cell_type": "markdown",
   "id": "f0964ed0",
   "metadata": {},
   "source": [
    "Most of the users were born between 1980 and 2000"
   ]
  },
  {
   "cell_type": "code",
   "execution_count": 47,
   "id": "22f0b690",
   "metadata": {},
   "outputs": [
    {
     "data": {
      "text/plain": [
       "<Axes: xlabel='age_group', ylabel='mobile_likes_received'>"
      ]
     },
     "execution_count": 47,
     "metadata": {},
     "output_type": "execute_result"
    },
    {
     "data": {
      "image/png": "[encoded data removed]",
      "text/plain": [
       "<Figure size 1200x500 with 1 Axes>"
      ]
     },
     "metadata": {},
     "output_type": "display_data"
    }
   ],
   "source": [
    "plt.figure(figsize=(12,5))\n",
    "sns.pointplot(x='age_group',y='mobile_likes_received',data=df,hue='gender',palette='magma')"
   ]
  },
  {
   "cell_type": "markdown",
   "id": "39d18670",
   "metadata": {},
   "source": [
    "Females in the age group 10-20 has received more number of likes through mobile"
   ]
  },
  {
   "cell_type": "code",
   "execution_count": 48,
   "id": "4e958b44",
   "metadata": {},
   "outputs": [
    {
     "data": {
      "text/plain": [
       "<Axes: xlabel='age_group', ylabel='www_likes_received'>"
      ]
     },
     "execution_count": 48,
     "metadata": {},
     "output_type": "execute_result"
    },
    {
     "data": {
      "image/png": "[encoded data removed]",
      "text/plain": [
       "<Figure size 1200x500 with 1 Axes>"
      ]
     },
     "metadata": {},
     "output_type": "display_data"
    }
   ],
   "source": [
    "plt.figure(figsize=(12,5))\n",
    "sns.pointplot(x='age_group',y='www_likes_received',data=df,hue='gender',palette='coolwarm')"
   ]
  },
  {
   "cell_type": "markdown",
   "id": "13eb226b",
   "metadata": {},
   "source": [
    " Females in the age group 10-20 has received more number of likes through web."
   ]
  },
  {
   "cell_type": "code",
   "execution_count": 49,
   "id": "501d9f24",
   "metadata": {},
   "outputs": [
    {
     "data": {
      "image/png": "[encoded data removed]",
      "text/plain": [
       "<Figure size 1200x500 with 2 Axes>"
      ]
     },
     "metadata": {},
     "output_type": "display_data"
    }
   ],
   "source": [
    "plt.figure(figsize=(12,5))\n",
    "plt.subplot(1,2,1)\n",
    "sns.barplot(x='gender',y='mobile_likes_received',data=df,palette='Set1')\n",
    "plt.subplot(1,2,2)\n",
    "sns.barplot(x='gender',y='www_likes_received',data=df,palette='Set2')\n",
    "plt.tight_layout()"
   ]
  },
  {
   "cell_type": "markdown",
   "id": "09eda461",
   "metadata": {},
   "source": [
    "Mobile users are more than web users"
   ]
  },
  {
   "cell_type": "code",
   "execution_count": 50,
   "id": "5f8a29fc",
   "metadata": {},
   "outputs": [],
   "source": [
    "df.to_csv('facebook_cleaned.csv', index=False)"
   ]
  },
  {
   "cell_type": "code",
   "execution_count": null,
   "id": "61f0d366",
   "metadata": {},
   "outputs": [],
   "source": []
  }
 ],
 "metadata": {
  "kernelspec": {
   "display_name": "Python 3 (ipykernel)",
   "language": "python",
   "name": "python3"
  },
  "language_info": {
   "codemirror_mode": {
    "name": "ipython",
    "version": 3
   },
   "file_extension": ".py",
   "mimetype": "text/x-python",
   "name": "python",
   "nbconvert_exporter": "python",
   "pygments_lexer": "ipython3",
   "version": "3.11.4"
  }
 },
 "nbformat": 4,
 "nbformat_minor": 5
}
